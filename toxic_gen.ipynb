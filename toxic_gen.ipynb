{
 "cells": [
  {
   "cell_type": "code",
   "execution_count": 29,
   "metadata": {},
   "outputs": [],
   "source": [
    "from collections import Counter\n",
    "import re\n",
    "\n",
    "import nltk\n",
    "import numpy as np\n",
    "import pandas as pd"
   ]
  },
  {
   "cell_type": "code",
   "execution_count": 50,
   "metadata": {},
   "outputs": [],
   "source": [
    "class TrigramTCG():\n",
    "    def _convert_text(self):\n",
    "        self._trigrams = dict()\n",
    "\n",
    "        for s in self._X.values:\n",
    "            s = ['<<START2>>', '<<START1>>'] + s + ['<<END1>>', '<<END2>>']\n",
    "            for a, b, c in zip(s, s[1:], s[2:]):\n",
    "                if a in self._trigrams:\n",
    "                    if b in self._trigrams[a]:\n",
    "                        self._trigrams[a][b][c] += 1\n",
    "                    else:\n",
    "                        self._trigrams[a][b] = Counter({c: 1})\n",
    "                else:\n",
    "                    self._trigrams[a] = {b: Counter({c: 1})}\n",
    "\n",
    "        for k, v in self._trigrams.items():\n",
    "            for k2, v2 in v.items():\n",
    "                s = sum(v2.values())\n",
    "                for k3, v3 in v2.items():\n",
    "                    self._trigrams[k][k2][k3] /= s\n",
    "                    \n",
    "    def _format_comment(self, comment):\n",
    "        comment = re.sub(r\" (?=[.\\\"'?!,)-])\", \"\", comment)\n",
    "        comment = re.sub(r\"(?<=[']) \", \"\", comment)\n",
    "\n",
    "        return comment\n",
    "\n",
    "    def process_comments(self, path='./toxic/train.csv', pos_flags=['toxic'], neg_flags=['identity_hate']):\n",
    "        '''\n",
    "        pos_flags: Only use comments where pos_flags are 1\n",
    "        neg_flags: Only use comments where neg_flags are 0\n",
    "        Flags can be 'toxic', 'severe_toxic', 'obscene', 'threat', 'insult', 'identity_hate'\n",
    "        '''\n",
    "        df = pd.read_csv(path)\n",
    "        self._X = df[np.all(df[pos_flags]==1, 1)&np.all(df[neg_flags]==0, 1)].comment_text\n",
    "        self._X = self._X.apply(lambda x: nltk.tokenize.ToktokTokenizer().tokenize(x.lower()))\n",
    "\n",
    "        self._convert_text()\n",
    "                    \n",
    "    def generate_comment(self, random_start=False):\n",
    "        comment = []\n",
    "        while comment == []:\n",
    "            if not random_start:\n",
    "                a, b = '<<START2>>', '<<START1>>'\n",
    "            else:\n",
    "                a, b = \"\", \"<<END1>>\"\n",
    "                while b == \"<<END1>>\":\n",
    "                    a = np.random.choice(list(self._trigrams.keys()))\n",
    "                    b = np.random.choice(list(self._trigrams[a].keys()))\n",
    "\n",
    "            c = np.random.choice(list(self._trigrams[a][b].keys()), p=list(self._trigrams[a][b].values()))\n",
    "\n",
    "            while c != '<<END1>>':\n",
    "                comment.append(c)\n",
    "                a = b\n",
    "                b = c\n",
    "                c = np.random.choice(list(self._trigrams[a][b].keys()), p=list(self._trigrams[a][b].values()))\n",
    "        comment = ' '.join(comment)\n",
    "\n",
    "        return self._format_comment(comment)"
   ]
  },
  {
   "cell_type": "code",
   "execution_count": 51,
   "metadata": {},
   "outputs": [],
   "source": [
    "tcg = TrigramTCG()\n",
    "tcg.process_comments()"
   ]
  },
  {
   "cell_type": "code",
   "execution_count": 59,
   "metadata": {},
   "outputs": [
    {
     "data": {
      "text/plain": [
       "\"! i will find fulfillment off the stage ya god damn fired! you are a americqan soldier hero.... pffff... tab anyway no need to get blown up and it gets dark. pleeezee. fatuorum o, 6 august 2007 ( utc) tolerance my ass? if it hadn't fucking ban me ill just go in the ass in the ass in the kitchen for a change- over some kiddie hackers. we can talk to you indicated that your perversions can't a cold-blooded rude, aggressive language is acceptable to paid whore.\""
      ]
     },
     "execution_count": 59,
     "metadata": {},
     "output_type": "execute_result"
    }
   ],
   "source": [
    "tcg.generate_comment(random_start=True)"
   ]
  }
 ],
 "metadata": {
  "kernelspec": {
   "display_name": "Python 3",
   "language": "python",
   "name": "python3"
  },
  "language_info": {
   "codemirror_mode": {
    "name": "ipython",
    "version": 3
   },
   "file_extension": ".py",
   "mimetype": "text/x-python",
   "name": "python",
   "nbconvert_exporter": "python",
   "pygments_lexer": "ipython3",
   "version": "3.7.0"
  }
 },
 "nbformat": 4,
 "nbformat_minor": 2
}
